{
 "cells": [
  {
   "cell_type": "markdown",
   "metadata": {},
   "source": [
    "<div style=\"color:navy; background-color:orange; font-size:16px;\">Importing the dataset</div>"
   ]
  },
  {
   "cell_type": "code",
   "execution_count": 39,
   "metadata": {},
   "outputs": [],
   "source": [
    "#Importing libraries\n",
    "import pandas as pd\n",
    "import numpy as np\n",
    "import matplotlib.pyplot as plt\n",
    "from bs4 import BeautifulSoup"
   ]
  },
  {
   "cell_type": "markdown",
   "metadata": {},
   "source": [
    "<div style=\"color:navy; background-color:orange; font-size:16px;\">Downloading the John Hopkins Covid 19 dataset</div>"
   ]
  },
  {
   "cell_type": "code",
   "execution_count": 40,
   "metadata": {},
   "outputs": [],
   "source": [
    "#https://github.com/CSSEGISandData/COVID-19/tree/master/csse_covid_19_data/csse_covid_19_daily_reports\n",
    "#!git clone https://github.com/CSSEGISandData/COVID-19.git"
   ]
  },
  {
   "cell_type": "code",
   "execution_count": 41,
   "metadata": {},
   "outputs": [],
   "source": [
    "import pandas as pd\n",
    "url = \"https://raw.githubusercontent.com/CSSEGISandData/COVID-19/master/csse_covid_19_data/csse_covid_19_daily_reports/01-01-2021.csv\"\n",
    "df = pd.read_csv(url, error_bad_lines = False)\n",
    "US = df[df['Country_Region'] == \"US\"]\n",
    "d = ['Admin2', 'FIPS', \"Lat\", \"Long_\", 'Case_Fatality_Ratio', 'Incident_Rate']\n",
    "for to_be_deleted in d:\n",
    "    del US[to_be_deleted]"
   ]
  },
  {
   "cell_type": "code",
   "execution_count": 42,
   "metadata": {},
   "outputs": [
    {
     "data": {
      "text/plain": [
       "array(['2020-08-04 02:27:56', '2020-08-07 22:34:20',\n",
       "       '2020-12-21 13:27:30', '2020-12-29 23:22:37',\n",
       "       '2021-01-02 05:22:33', '2021-04-02 15:13:53'], dtype=object)"
      ]
     },
     "execution_count": 42,
     "metadata": {},
     "output_type": "execute_result"
    }
   ],
   "source": [
    "np.unique(US['Last_Update'])"
   ]
  },
  {
   "cell_type": "code",
   "execution_count": 43,
   "metadata": {},
   "outputs": [],
   "source": [
    "temp_data = US.groupby(by=[\"Province_State\"]).sum().reset_index()"
   ]
  },
  {
   "cell_type": "code",
   "execution_count": 44,
   "metadata": {},
   "outputs": [
    {
     "data": {
      "text/html": [
       "<div>\n",
       "<style scoped>\n",
       "    .dataframe tbody tr th:only-of-type {\n",
       "        vertical-align: middle;\n",
       "    }\n",
       "\n",
       "    .dataframe tbody tr th {\n",
       "        vertical-align: top;\n",
       "    }\n",
       "\n",
       "    .dataframe thead th {\n",
       "        text-align: right;\n",
       "    }\n",
       "</style>\n",
       "<table border=\"1\" class=\"dataframe\">\n",
       "  <thead>\n",
       "    <tr style=\"text-align: right;\">\n",
       "      <th></th>\n",
       "      <th>Province_State</th>\n",
       "      <th>Confirmed</th>\n",
       "      <th>Deaths</th>\n",
       "      <th>Recovered</th>\n",
       "      <th>Active</th>\n",
       "    </tr>\n",
       "  </thead>\n",
       "  <tbody>\n",
       "    <tr>\n",
       "      <th>0</th>\n",
       "      <td>Alabama</td>\n",
       "      <td>365747</td>\n",
       "      <td>4872</td>\n",
       "      <td>0</td>\n",
       "      <td>360875.0</td>\n",
       "    </tr>\n",
       "    <tr>\n",
       "      <th>1</th>\n",
       "      <td>Alaska</td>\n",
       "      <td>47019</td>\n",
       "      <td>206</td>\n",
       "      <td>0</td>\n",
       "      <td>46780.0</td>\n",
       "    </tr>\n",
       "    <tr>\n",
       "      <th>2</th>\n",
       "      <td>Arizona</td>\n",
       "      <td>530267</td>\n",
       "      <td>9015</td>\n",
       "      <td>0</td>\n",
       "      <td>521252.0</td>\n",
       "    </tr>\n",
       "    <tr>\n",
       "      <th>3</th>\n",
       "      <td>Arkansas</td>\n",
       "      <td>229442</td>\n",
       "      <td>3711</td>\n",
       "      <td>0</td>\n",
       "      <td>225731.0</td>\n",
       "    </tr>\n",
       "    <tr>\n",
       "      <th>4</th>\n",
       "      <td>California</td>\n",
       "      <td>2365024</td>\n",
       "      <td>26504</td>\n",
       "      <td>0</td>\n",
       "      <td>2309915.0</td>\n",
       "    </tr>\n",
       "  </tbody>\n",
       "</table>\n",
       "</div>"
      ],
      "text/plain": [
       "  Province_State  Confirmed  Deaths  Recovered     Active\n",
       "0        Alabama     365747    4872          0   360875.0\n",
       "1         Alaska      47019     206          0    46780.0\n",
       "2        Arizona     530267    9015          0   521252.0\n",
       "3       Arkansas     229442    3711          0   225731.0\n",
       "4     California    2365024   26504          0  2309915.0"
      ]
     },
     "execution_count": 44,
     "metadata": {},
     "output_type": "execute_result"
    }
   ],
   "source": [
    "temp_data.head()"
   ]
  },
  {
   "cell_type": "markdown",
   "metadata": {},
   "source": [
    "<div style=\"color:navy; background-color:orange; font-size:16px;\">All existing dates</div>"
   ]
  },
  {
   "cell_type": "code",
   "execution_count": 45,
   "metadata": {},
   "outputs": [],
   "source": [
    "#storing all dates\n",
    "from datetime import date, timedelta\n",
    "\n",
    "d1 = date(2020,1,22)\n",
    "d2 = date(2021,5,18)\n",
    "\n",
    "#list containing all of the dates\n",
    "dates = [d1 + timedelta(days=x) for x in range((d2-d1).days + 1)]\n",
    "all_dates = []\n",
    "#all_dates[0].day, all_dates[0].month, all_dates[0].year\n",
    "for d in dates:\n",
    "    if d.day < 10:\n",
    "        day = \"0\"+str(d.day)\n",
    "    else:\n",
    "        day = str(d.day)\n",
    "    if d.month <10:\n",
    "        month = \"0\"+str(d.month)\n",
    "    else:\n",
    "        month = str(d.month)\n",
    "    year = str(d.year)\n",
    "    #print(month+\"-\"+day+\"-\"+year)\n",
    "    all_dates.append(month+\"-\"+day+\"-\"+year)    "
   ]
  },
  {
   "cell_type": "code",
   "execution_count": 46,
   "metadata": {},
   "outputs": [],
   "source": [
    "#all_dates\n",
    "#all_dates[0].day, all_dates[0].month, all_dates[0].year\n",
    "#type(all_dates[0].day)"
   ]
  },
  {
   "cell_type": "markdown",
   "metadata": {},
   "source": [
    "<div style=\"color:navy; background-color:orange; font-size:16px;\">Downloading data corresponding to each particular date</div>"
   ]
  },
  {
   "cell_type": "code",
   "execution_count": 47,
   "metadata": {},
   "outputs": [],
   "source": [
    "def store_df(index):\n",
    "    \"\"\"\n",
    "    index in the all_dates\n",
    "    \"\"\"\n",
    "    date = all_dates[index]\n",
    "    url = \"https://raw.githubusercontent.com/CSSEGISandData/COVID-19/master/csse_covid_19_data/csse_covid_19_daily_reports/\" + date + \".csv\"\n",
    "    df = pd.read_csv(url, error_bad_lines = False)\n",
    "    return df\n",
    "#store_df(123) #date = \"01-12-2021\" first index in the all_dates list"
   ]
  },
  {
   "cell_type": "markdown",
   "metadata": {},
   "source": [
    "<div style=\"color:navy; background-color:orange; font-size:16px;\">Cleaning and filtering the dataset</div>"
   ]
  },
  {
   "cell_type": "code",
   "execution_count": 48,
   "metadata": {},
   "outputs": [
    {
     "data": {
      "text/html": [
       "<div>\n",
       "<style scoped>\n",
       "    .dataframe tbody tr th:only-of-type {\n",
       "        vertical-align: middle;\n",
       "    }\n",
       "\n",
       "    .dataframe tbody tr th {\n",
       "        vertical-align: top;\n",
       "    }\n",
       "\n",
       "    .dataframe thead th {\n",
       "        text-align: right;\n",
       "    }\n",
       "</style>\n",
       "<table border=\"1\" class=\"dataframe\">\n",
       "  <thead>\n",
       "    <tr style=\"text-align: right;\">\n",
       "      <th></th>\n",
       "      <th>Province_State</th>\n",
       "      <th>Confirmed</th>\n",
       "      <th>Deaths</th>\n",
       "      <th>Recovered</th>\n",
       "      <th>Active</th>\n",
       "    </tr>\n",
       "  </thead>\n",
       "  <tbody>\n",
       "    <tr>\n",
       "      <th>0</th>\n",
       "      <td>Alabama</td>\n",
       "      <td>180</td>\n",
       "      <td>0</td>\n",
       "      <td>0</td>\n",
       "      <td>0</td>\n",
       "    </tr>\n",
       "    <tr>\n",
       "      <th>1</th>\n",
       "      <td>Alaska</td>\n",
       "      <td>20</td>\n",
       "      <td>0</td>\n",
       "      <td>0</td>\n",
       "      <td>0</td>\n",
       "    </tr>\n",
       "    <tr>\n",
       "      <th>2</th>\n",
       "      <td>American Samoa</td>\n",
       "      <td>0</td>\n",
       "      <td>0</td>\n",
       "      <td>0</td>\n",
       "      <td>0</td>\n",
       "    </tr>\n",
       "    <tr>\n",
       "      <th>3</th>\n",
       "      <td>Arizona</td>\n",
       "      <td>152</td>\n",
       "      <td>2</td>\n",
       "      <td>0</td>\n",
       "      <td>0</td>\n",
       "    </tr>\n",
       "    <tr>\n",
       "      <th>4</th>\n",
       "      <td>Arkansas</td>\n",
       "      <td>165</td>\n",
       "      <td>0</td>\n",
       "      <td>0</td>\n",
       "      <td>0</td>\n",
       "    </tr>\n",
       "  </tbody>\n",
       "</table>\n",
       "</div>"
      ],
      "text/plain": [
       "   Province_State  Confirmed  Deaths  Recovered  Active\n",
       "0         Alabama        180       0          0       0\n",
       "1          Alaska         20       0          0       0\n",
       "2  American Samoa          0       0          0       0\n",
       "3         Arizona        152       2          0       0\n",
       "4        Arkansas        165       0          0       0"
      ]
     },
     "execution_count": 48,
     "metadata": {},
     "output_type": "execute_result"
    }
   ],
   "source": [
    "dataset = store_df(60) #first recording for America is in the 60th day of recording\n",
    "dataset[dataset['Country_Region']=='US'].groupby(by=[\"Province_State\"]).sum().reset_index()[['Province_State', 'Confirmed','Deaths', 'Recovered', \"Active\"]].head()"
   ]
  },
  {
   "cell_type": "code",
   "execution_count": 49,
   "metadata": {},
   "outputs": [
    {
     "data": {
      "text/html": [
       "<div>\n",
       "<style scoped>\n",
       "    .dataframe tbody tr th:only-of-type {\n",
       "        vertical-align: middle;\n",
       "    }\n",
       "\n",
       "    .dataframe tbody tr th {\n",
       "        vertical-align: top;\n",
       "    }\n",
       "\n",
       "    .dataframe thead th {\n",
       "        text-align: right;\n",
       "    }\n",
       "</style>\n",
       "<table border=\"1\" class=\"dataframe\">\n",
       "  <thead>\n",
       "    <tr style=\"text-align: right;\">\n",
       "      <th></th>\n",
       "      <th>Province_State</th>\n",
       "      <th>Confirmed</th>\n",
       "      <th>Deaths</th>\n",
       "      <th>Recovered</th>\n",
       "      <th>Active</th>\n",
       "    </tr>\n",
       "  </thead>\n",
       "  <tbody>\n",
       "    <tr>\n",
       "      <th>0</th>\n",
       "      <td>Alabama</td>\n",
       "      <td>180</td>\n",
       "      <td>0</td>\n",
       "      <td>0</td>\n",
       "      <td>0</td>\n",
       "    </tr>\n",
       "    <tr>\n",
       "      <th>1</th>\n",
       "      <td>Alaska</td>\n",
       "      <td>20</td>\n",
       "      <td>0</td>\n",
       "      <td>0</td>\n",
       "      <td>0</td>\n",
       "    </tr>\n",
       "    <tr>\n",
       "      <th>2</th>\n",
       "      <td>American Samoa</td>\n",
       "      <td>0</td>\n",
       "      <td>0</td>\n",
       "      <td>0</td>\n",
       "      <td>0</td>\n",
       "    </tr>\n",
       "    <tr>\n",
       "      <th>3</th>\n",
       "      <td>Arizona</td>\n",
       "      <td>152</td>\n",
       "      <td>2</td>\n",
       "      <td>0</td>\n",
       "      <td>0</td>\n",
       "    </tr>\n",
       "    <tr>\n",
       "      <th>4</th>\n",
       "      <td>Arkansas</td>\n",
       "      <td>165</td>\n",
       "      <td>0</td>\n",
       "      <td>0</td>\n",
       "      <td>0</td>\n",
       "    </tr>\n",
       "  </tbody>\n",
       "</table>\n",
       "</div>"
      ],
      "text/plain": [
       "   Province_State  Confirmed  Deaths  Recovered  Active\n",
       "0         Alabama        180       0          0       0\n",
       "1          Alaska         20       0          0       0\n",
       "2  American Samoa          0       0          0       0\n",
       "3         Arizona        152       2          0       0\n",
       "4        Arkansas        165       0          0       0"
      ]
     },
     "execution_count": 49,
     "metadata": {},
     "output_type": "execute_result"
    }
   ],
   "source": [
    "def clean_df(index):\n",
    "    dataset = store_df(index)\n",
    "    try:\n",
    "        res = dataset[dataset['Country_Region']=='US'].groupby(by=[\"Province_State\"]).sum().reset_index()[['Province_State', 'Confirmed','Deaths', 'Recovered', \"Active\"]]\n",
    "    except:\n",
    "        print(\"No information for date\")\n",
    "    return res\n",
    "clean_df(60).head()"
   ]
  },
  {
   "cell_type": "markdown",
   "metadata": {},
   "source": [
    "<div style=\"color:navy; background-color:orange; font-size:16px;\">Merging the data corresponding to each date</div>"
   ]
  },
  {
   "cell_type": "code",
   "execution_count": 50,
   "metadata": {},
   "outputs": [
    {
     "name": "stdout",
     "output_type": "stream",
     "text": [
      "Merging --- 21.0%\n",
      "Merging --- 31.0%\n",
      "Merging --- 41.0%\n",
      "Merging --- 52.0%\n",
      "Merging --- 62.0%\n",
      "Merging --- 72.0%\n",
      "Merging --- 83.0%\n",
      "Merging --- 93.0%\n"
     ]
    }
   ],
   "source": [
    "result = clean_df(60)\n",
    "result.columns = ['Province_State', 'C60', 'D60', 'R60', 'A60']\n",
    "#for d in range(60, len(all_dates)):\n",
    "for d in range(61, len(all_dates)):\n",
    "    cols = result.columns\n",
    "    t = clean_df(d)\n",
    "    result = result.join(t.set_index('Province_State'), on='Province_State')\n",
    "    result.columns = list(cols) + [\"C\"+str(d), \"D\"+str(d), \"R\"+str(d), \"A\"+str(d) ]\n",
    "    if d%50 == 0:\n",
    "        print(\"Merging --- {}%\".format(np.round(100/len(all_dates)*d),2))"
   ]
  },
  {
   "cell_type": "code",
   "execution_count": 51,
   "metadata": {},
   "outputs": [],
   "source": [
    "assert result.shape[1] == (len(all_dates)-60)*4 + 1"
   ]
  },
  {
   "cell_type": "code",
   "execution_count": 52,
   "metadata": {},
   "outputs": [],
   "source": [
    "result.to_csv(\"CDAR.csv\", sep='\\t')"
   ]
  },
  {
   "cell_type": "markdown",
   "metadata": {},
   "source": [
    "<div style=\"color:navy; background-color:orange; font-size:16px;\">Confirmed cases</div>"
   ]
  },
  {
   "cell_type": "code",
   "execution_count": 53,
   "metadata": {},
   "outputs": [],
   "source": [
    "Confirmed = [\"C\"+str(d) for d in range(60, len(all_dates))]\n",
    "result[['Province_State'] + Confirmed].to_csv(\"Confirmed.csv\", sep='\\t')"
   ]
  },
  {
   "cell_type": "markdown",
   "metadata": {},
   "source": [
    "<div style=\"color:navy; background-color:orange; font-size:16px;\">Death cases</div>"
   ]
  },
  {
   "cell_type": "code",
   "execution_count": 54,
   "metadata": {},
   "outputs": [],
   "source": [
    "Death = [\"D\"+str(d) for d in range(60, len(all_dates))]\n",
    "result[['Province_State'] + Death].to_csv(\"Death.csv\", sep='\\t')"
   ]
  },
  {
   "cell_type": "markdown",
   "metadata": {},
   "source": [
    "<div style=\"color:navy; background-color:orange; font-size:16px;\">Active cases</div>"
   ]
  },
  {
   "cell_type": "code",
   "execution_count": 55,
   "metadata": {},
   "outputs": [],
   "source": [
    "Active = [\"A\"+str(d) for d in range(60, len(all_dates))]\n",
    "result[['Province_State'] + Active].to_csv(\"Active.csv\", sep='\\t')"
   ]
  },
  {
   "cell_type": "markdown",
   "metadata": {},
   "source": [
    "<div style=\"color:navy; background-color:orange; font-size:16px;\">Recovered cases</div>"
   ]
  },
  {
   "cell_type": "code",
   "execution_count": 56,
   "metadata": {},
   "outputs": [],
   "source": [
    "Recovered = [\"R\"+str(d) for d in range(60, len(all_dates))]\n",
    "result[['Province_State'] + Recovered].to_csv(\"Recovered.csv\", sep='\\t')"
   ]
  },
  {
   "cell_type": "markdown",
   "metadata": {},
   "source": [
    "<div style=\"color:navy; background-color:orange; font-size:16px;\">The results for a particular state</div>"
   ]
  },
  {
   "cell_type": "code",
   "execution_count": 57,
   "metadata": {},
   "outputs": [
    {
     "data": {
      "text/html": [
       "<div>\n",
       "<style scoped>\n",
       "    .dataframe tbody tr th:only-of-type {\n",
       "        vertical-align: middle;\n",
       "    }\n",
       "\n",
       "    .dataframe tbody tr th {\n",
       "        vertical-align: top;\n",
       "    }\n",
       "\n",
       "    .dataframe thead th {\n",
       "        text-align: right;\n",
       "    }\n",
       "</style>\n",
       "<table border=\"1\" class=\"dataframe\">\n",
       "  <thead>\n",
       "    <tr style=\"text-align: right;\">\n",
       "      <th></th>\n",
       "      <th>Province_State</th>\n",
       "      <th>C60</th>\n",
       "      <th>D60</th>\n",
       "      <th>R60</th>\n",
       "      <th>A60</th>\n",
       "      <th>C61</th>\n",
       "      <th>D61</th>\n",
       "      <th>R61</th>\n",
       "      <th>A61</th>\n",
       "      <th>C62</th>\n",
       "      <th>...</th>\n",
       "      <th>R480</th>\n",
       "      <th>A480</th>\n",
       "      <th>C481</th>\n",
       "      <th>D481</th>\n",
       "      <th>R481</th>\n",
       "      <th>A481</th>\n",
       "      <th>C482</th>\n",
       "      <th>D482</th>\n",
       "      <th>R482</th>\n",
       "      <th>A482</th>\n",
       "    </tr>\n",
       "  </thead>\n",
       "  <tbody>\n",
       "    <tr>\n",
       "      <th>19</th>\n",
       "      <td>Iowa</td>\n",
       "      <td>90</td>\n",
       "      <td>0</td>\n",
       "      <td>0</td>\n",
       "      <td>0</td>\n",
       "      <td>105.0</td>\n",
       "      <td>0.0</td>\n",
       "      <td>0.0</td>\n",
       "      <td>0.0</td>\n",
       "      <td>124.0</td>\n",
       "      <td>...</td>\n",
       "      <td>0.0</td>\n",
       "      <td>0.0</td>\n",
       "      <td>369494.0</td>\n",
       "      <td>6006.0</td>\n",
       "      <td>0.0</td>\n",
       "      <td>0.0</td>\n",
       "      <td>369693.0</td>\n",
       "      <td>6013.0</td>\n",
       "      <td>0.0</td>\n",
       "      <td>0.0</td>\n",
       "    </tr>\n",
       "  </tbody>\n",
       "</table>\n",
       "<p>1 rows × 1693 columns</p>\n",
       "</div>"
      ],
      "text/plain": [
       "   Province_State  C60  D60  R60  A60    C61  D61  R61  A61    C62  ...  R480  \\\n",
       "19           Iowa   90    0    0    0  105.0  0.0  0.0  0.0  124.0  ...   0.0   \n",
       "\n",
       "    A480      C481    D481  R481  A481      C482    D482  R482  A482  \n",
       "19   0.0  369494.0  6006.0   0.0   0.0  369693.0  6013.0   0.0   0.0  \n",
       "\n",
       "[1 rows x 1693 columns]"
      ]
     },
     "execution_count": 57,
     "metadata": {},
     "output_type": "execute_result"
    }
   ],
   "source": [
    "result[result.Province_State ==\"Iowa\"]"
   ]
  },
  {
   "cell_type": "code",
   "execution_count": 58,
   "metadata": {},
   "outputs": [
    {
     "data": {
      "text/html": [
       "<div>\n",
       "<style scoped>\n",
       "    .dataframe tbody tr th:only-of-type {\n",
       "        vertical-align: middle;\n",
       "    }\n",
       "\n",
       "    .dataframe tbody tr th {\n",
       "        vertical-align: top;\n",
       "    }\n",
       "\n",
       "    .dataframe thead th {\n",
       "        text-align: right;\n",
       "    }\n",
       "</style>\n",
       "<table border=\"1\" class=\"dataframe\">\n",
       "  <thead>\n",
       "    <tr style=\"text-align: right;\">\n",
       "      <th></th>\n",
       "      <th>Province_State</th>\n",
       "      <th>C60</th>\n",
       "      <th>C61</th>\n",
       "      <th>C62</th>\n",
       "      <th>C63</th>\n",
       "      <th>C64</th>\n",
       "      <th>C65</th>\n",
       "      <th>C66</th>\n",
       "      <th>C67</th>\n",
       "      <th>C68</th>\n",
       "      <th>...</th>\n",
       "      <th>C473</th>\n",
       "      <th>C474</th>\n",
       "      <th>C475</th>\n",
       "      <th>C476</th>\n",
       "      <th>C477</th>\n",
       "      <th>C478</th>\n",
       "      <th>C479</th>\n",
       "      <th>C480</th>\n",
       "      <th>C481</th>\n",
       "      <th>C482</th>\n",
       "    </tr>\n",
       "  </thead>\n",
       "  <tbody>\n",
       "    <tr>\n",
       "      <th>5</th>\n",
       "      <td>California</td>\n",
       "      <td>1646</td>\n",
       "      <td>2108.0</td>\n",
       "      <td>2538.0</td>\n",
       "      <td>2998.0</td>\n",
       "      <td>3899.0</td>\n",
       "      <td>4657.0</td>\n",
       "      <td>5095.0</td>\n",
       "      <td>5852.0</td>\n",
       "      <td>7138.0</td>\n",
       "      <td>...</td>\n",
       "      <td>3758137.0</td>\n",
       "      <td>3760303.0</td>\n",
       "      <td>3761779.0</td>\n",
       "      <td>3763281.0</td>\n",
       "      <td>3764405.0</td>\n",
       "      <td>3767052.0</td>\n",
       "      <td>3768087.0</td>\n",
       "      <td>3768805.0</td>\n",
       "      <td>3769827.0</td>\n",
       "      <td>3771240.0</td>\n",
       "    </tr>\n",
       "  </tbody>\n",
       "</table>\n",
       "<p>1 rows × 424 columns</p>\n",
       "</div>"
      ],
      "text/plain": [
       "  Province_State   C60     C61     C62     C63     C64     C65     C66  \\\n",
       "5     California  1646  2108.0  2538.0  2998.0  3899.0  4657.0  5095.0   \n",
       "\n",
       "      C67     C68  ...       C473       C474       C475       C476       C477  \\\n",
       "5  5852.0  7138.0  ...  3758137.0  3760303.0  3761779.0  3763281.0  3764405.0   \n",
       "\n",
       "        C478       C479       C480       C481       C482  \n",
       "5  3767052.0  3768087.0  3768805.0  3769827.0  3771240.0  \n",
       "\n",
       "[1 rows x 424 columns]"
      ]
     },
     "execution_count": 58,
     "metadata": {},
     "output_type": "execute_result"
    }
   ],
   "source": [
    "California = result[result.Province_State ==\"California\"]\n",
    "NewYork = result[result.Province_State ==\"New York\"]\n",
    "California[['Province_State'] + Confirmed]"
   ]
  },
  {
   "cell_type": "markdown",
   "metadata": {},
   "source": [
    "<div style=\"color:navy; background-color:orange; font-size:16px;\">Plotting the results for a particular state (CA and NY)</div>"
   ]
  },
  {
   "cell_type": "code",
   "execution_count": 59,
   "metadata": {},
   "outputs": [],
   "source": [
    "confirmed_cal = list(California[['Province_State'] + Confirmed].iloc[0])[1:]\n",
    "confirmed_ny= list(NewYork[['Province_State'] + Confirmed].iloc[0])[1:]"
   ]
  },
  {
   "cell_type": "code",
   "execution_count": 60,
   "metadata": {},
   "outputs": [
    {
     "data": {
      "image/png": "[encoded data removed]",
      "text/plain": [
       "<Figure size 1440x360 with 1 Axes>"
      ]
     },
     "metadata": {
      "needs_background": "light"
     },
     "output_type": "display_data"
    }
   ],
   "source": [
    "plt.figure(figsize=(20, 5))\n",
    "plt.xticks(rotation=90, ha='right', fontsize=10)\n",
    "plt.ylabel('#Confirmed', fontsize=10)\n",
    "plt.ylabel('Date', fontsize=10)\n",
    "plt.plot(all_dates[60:], confirmed_cal, color = \"navy\", label=\"CA\")\n",
    "plt.plot(all_dates[60:], confirmed_ny, color = \"salmon\", label=\"NY\")\n",
    "plt.xticks([int(i) for i in np.linspace(0, len(all_dates), 50)])\n",
    "plt.legend(loc = \"upper left\")\n",
    "plt.show()"
   ]
  },
  {
   "cell_type": "markdown",
   "metadata": {},
   "source": [
    "<div style=\"color:blue; background-color:khaki; font-size:17px;\">The above is aggregated data, in the following we store the data for singular days</div>"
   ]
  },
  {
   "cell_type": "code",
   "execution_count": 61,
   "metadata": {},
   "outputs": [],
   "source": [
    "#daily = result.copy()\n",
    "#cols = list(daily.columns)"
   ]
  },
  {
   "cell_type": "code",
   "execution_count": 191,
   "metadata": {},
   "outputs": [],
   "source": [
    "#for r in range(daily.shape[0]):\n",
    "    #for c in range(2, len(cols)):\n",
    "       # daily[cols[c]].iloc[r]= daily[cols[c]].iloc[r] - daily[cols[c-1]].iloc[r]"
   ]
  },
  {
   "cell_type": "markdown",
   "metadata": {},
   "source": [
    "<div style=\"color:navy; background-color:orange; font-size:16px;\">Adding the vaccination data</div>"
   ]
  },
  {
   "cell_type": "code",
   "execution_count": 371,
   "metadata": {},
   "outputs": [
    {
     "data": {
      "text/html": [
       "<div>\n",
       "<style scoped>\n",
       "    .dataframe tbody tr th:only-of-type {\n",
       "        vertical-align: middle;\n",
       "    }\n",
       "\n",
       "    .dataframe tbody tr th {\n",
       "        vertical-align: top;\n",
       "    }\n",
       "\n",
       "    .dataframe thead th {\n",
       "        text-align: right;\n",
       "    }\n",
       "</style>\n",
       "<table border=\"1\" class=\"dataframe\">\n",
       "  <thead>\n",
       "    <tr style=\"text-align: right;\">\n",
       "      <th></th>\n",
       "      <th>UID</th>\n",
       "      <th>iso2</th>\n",
       "      <th>iso3</th>\n",
       "      <th>code3</th>\n",
       "      <th>FIPS</th>\n",
       "      <th>Admin2</th>\n",
       "      <th>Province_State</th>\n",
       "      <th>Country_Region</th>\n",
       "      <th>Lat</th>\n",
       "      <th>Long_</th>\n",
       "      <th>...</th>\n",
       "      <th>2021-05-09</th>\n",
       "      <th>2021-05-10</th>\n",
       "      <th>2021-05-11</th>\n",
       "      <th>2021-05-12</th>\n",
       "      <th>2021-05-13</th>\n",
       "      <th>2021-05-14</th>\n",
       "      <th>2021-05-15</th>\n",
       "      <th>2021-05-16</th>\n",
       "      <th>2021-05-17</th>\n",
       "      <th>2021-05-18</th>\n",
       "    </tr>\n",
       "  </thead>\n",
       "  <tbody>\n",
       "    <tr>\n",
       "      <th>0</th>\n",
       "      <td>84000001.0</td>\n",
       "      <td>US</td>\n",
       "      <td>USA</td>\n",
       "      <td>840.0</td>\n",
       "      <td>1.0</td>\n",
       "      <td>NaN</td>\n",
       "      <td>Alabama</td>\n",
       "      <td>US</td>\n",
       "      <td>32.3182</td>\n",
       "      <td>-86.9023</td>\n",
       "      <td>...</td>\n",
       "      <td>2768204</td>\n",
       "      <td>2773615</td>\n",
       "      <td>2773902</td>\n",
       "      <td>2791631</td>\n",
       "      <td>2831853</td>\n",
       "      <td>2859591</td>\n",
       "      <td>2881314</td>\n",
       "      <td>2886106</td>\n",
       "      <td>2886153</td>\n",
       "      <td>2905553</td>\n",
       "    </tr>\n",
       "    <tr>\n",
       "      <th>1</th>\n",
       "      <td>84000002.0</td>\n",
       "      <td>US</td>\n",
       "      <td>USA</td>\n",
       "      <td>840.0</td>\n",
       "      <td>2.0</td>\n",
       "      <td>NaN</td>\n",
       "      <td>Alaska</td>\n",
       "      <td>US</td>\n",
       "      <td>61.3707</td>\n",
       "      <td>-152.4044</td>\n",
       "      <td>...</td>\n",
       "      <td>625950</td>\n",
       "      <td>575340</td>\n",
       "      <td>576572</td>\n",
       "      <td>596118</td>\n",
       "      <td>597901</td>\n",
       "      <td>600324</td>\n",
       "      <td>600324</td>\n",
       "      <td>600324</td>\n",
       "      <td>603937</td>\n",
       "      <td>605896</td>\n",
       "    </tr>\n",
       "    <tr>\n",
       "      <th>2</th>\n",
       "      <td>84000004.0</td>\n",
       "      <td>US</td>\n",
       "      <td>USA</td>\n",
       "      <td>840.0</td>\n",
       "      <td>4.0</td>\n",
       "      <td>NaN</td>\n",
       "      <td>Arizona</td>\n",
       "      <td>US</td>\n",
       "      <td>33.7298</td>\n",
       "      <td>-111.4312</td>\n",
       "      <td>...</td>\n",
       "      <td>5372605</td>\n",
       "      <td>5411726</td>\n",
       "      <td>5450531</td>\n",
       "      <td>5471165</td>\n",
       "      <td>5497137</td>\n",
       "      <td>5521396</td>\n",
       "      <td>5558091</td>\n",
       "      <td>5598339</td>\n",
       "      <td>5618126</td>\n",
       "      <td>5635242</td>\n",
       "    </tr>\n",
       "    <tr>\n",
       "      <th>3</th>\n",
       "      <td>84000005.0</td>\n",
       "      <td>US</td>\n",
       "      <td>USA</td>\n",
       "      <td>840.0</td>\n",
       "      <td>5.0</td>\n",
       "      <td>NaN</td>\n",
       "      <td>Arkansas</td>\n",
       "      <td>US</td>\n",
       "      <td>34.9697</td>\n",
       "      <td>-92.3731</td>\n",
       "      <td>...</td>\n",
       "      <td>1900002</td>\n",
       "      <td>1905274</td>\n",
       "      <td>1909885</td>\n",
       "      <td>1919251</td>\n",
       "      <td>1928682</td>\n",
       "      <td>1938998</td>\n",
       "      <td>1954605</td>\n",
       "      <td>1966843</td>\n",
       "      <td>1970379</td>\n",
       "      <td>1973505</td>\n",
       "    </tr>\n",
       "    <tr>\n",
       "      <th>4</th>\n",
       "      <td>84000006.0</td>\n",
       "      <td>US</td>\n",
       "      <td>USA</td>\n",
       "      <td>840.0</td>\n",
       "      <td>6.0</td>\n",
       "      <td>NaN</td>\n",
       "      <td>California</td>\n",
       "      <td>US</td>\n",
       "      <td>36.1162</td>\n",
       "      <td>-119.6816</td>\n",
       "      <td>...</td>\n",
       "      <td>33109680</td>\n",
       "      <td>33438134</td>\n",
       "      <td>33632769</td>\n",
       "      <td>33817290</td>\n",
       "      <td>34085597</td>\n",
       "      <td>34319950</td>\n",
       "      <td>34715312</td>\n",
       "      <td>35114882</td>\n",
       "      <td>35341738</td>\n",
       "      <td>35518035</td>\n",
       "    </tr>\n",
       "  </tbody>\n",
       "</table>\n",
       "<p>5 rows × 168 columns</p>\n",
       "</div>"
      ],
      "text/plain": [
       "          UID iso2 iso3  code3  FIPS  Admin2 Province_State Country_Region  \\\n",
       "0  84000001.0   US  USA  840.0   1.0     NaN        Alabama             US   \n",
       "1  84000002.0   US  USA  840.0   2.0     NaN         Alaska             US   \n",
       "2  84000004.0   US  USA  840.0   4.0     NaN        Arizona             US   \n",
       "3  84000005.0   US  USA  840.0   5.0     NaN       Arkansas             US   \n",
       "4  84000006.0   US  USA  840.0   6.0     NaN     California             US   \n",
       "\n",
       "       Lat     Long_  ... 2021-05-09  2021-05-10  2021-05-11  2021-05-12  \\\n",
       "0  32.3182  -86.9023  ...    2768204     2773615     2773902     2791631   \n",
       "1  61.3707 -152.4044  ...     625950      575340      576572      596118   \n",
       "2  33.7298 -111.4312  ...    5372605     5411726     5450531     5471165   \n",
       "3  34.9697  -92.3731  ...    1900002     1905274     1909885     1919251   \n",
       "4  36.1162 -119.6816  ...   33109680    33438134    33632769    33817290   \n",
       "\n",
       "   2021-05-13  2021-05-14  2021-05-15  2021-05-16  2021-05-17  2021-05-18  \n",
       "0     2831853     2859591     2881314     2886106     2886153     2905553  \n",
       "1      597901      600324      600324      600324      603937      605896  \n",
       "2     5497137     5521396     5558091     5598339     5618126     5635242  \n",
       "3     1928682     1938998     1954605     1966843     1970379     1973505  \n",
       "4    34085597    34319950    34715312    35114882    35341738    35518035  \n",
       "\n",
       "[5 rows x 168 columns]"
      ]
     },
     "execution_count": 371,
     "metadata": {},
     "output_type": "execute_result"
    }
   ],
   "source": [
    "vaccination = pd.read_csv(\"../US_vacccination_timeseries.csv\")\n",
    "vaccination.head()"
   ]
  },
  {
   "cell_type": "code",
   "execution_count": 372,
   "metadata": {},
   "outputs": [],
   "source": [
    "for c in list(vaccination.columns)[:6]:\n",
    "    del vaccination[c]"
   ]
  },
  {
   "cell_type": "code",
   "execution_count": 373,
   "metadata": {},
   "outputs": [],
   "source": [
    "del vaccination['Combined_Key']\n",
    "del vaccination['Country_Region']"
   ]
  },
  {
   "cell_type": "code",
   "execution_count": 374,
   "metadata": {},
   "outputs": [],
   "source": [
    "vaccination = vaccination[vaccination['Province_State'].isin(list(result['Province_State']))]"
   ]
  },
  {
   "cell_type": "code",
   "execution_count": 375,
   "metadata": {},
   "outputs": [
    {
     "data": {
      "text/html": [
       "<div>\n",
       "<style scoped>\n",
       "    .dataframe tbody tr th:only-of-type {\n",
       "        vertical-align: middle;\n",
       "    }\n",
       "\n",
       "    .dataframe tbody tr th {\n",
       "        vertical-align: top;\n",
       "    }\n",
       "\n",
       "    .dataframe thead th {\n",
       "        text-align: right;\n",
       "    }\n",
       "</style>\n",
       "<table border=\"1\" class=\"dataframe\">\n",
       "  <thead>\n",
       "    <tr style=\"text-align: right;\">\n",
       "      <th></th>\n",
       "      <th>Province_State</th>\n",
       "      <th>Lat</th>\n",
       "      <th>Long_</th>\n",
       "      <th>Population</th>\n",
       "      <th>2020-12-14</th>\n",
       "      <th>2020-12-15</th>\n",
       "      <th>2020-12-16</th>\n",
       "      <th>2020-12-17</th>\n",
       "      <th>2020-12-18</th>\n",
       "      <th>2020-12-19</th>\n",
       "      <th>...</th>\n",
       "      <th>2021-05-09</th>\n",
       "      <th>2021-05-10</th>\n",
       "      <th>2021-05-11</th>\n",
       "      <th>2021-05-12</th>\n",
       "      <th>2021-05-13</th>\n",
       "      <th>2021-05-14</th>\n",
       "      <th>2021-05-15</th>\n",
       "      <th>2021-05-16</th>\n",
       "      <th>2021-05-17</th>\n",
       "      <th>2021-05-18</th>\n",
       "    </tr>\n",
       "  </thead>\n",
       "  <tbody>\n",
       "    <tr>\n",
       "      <th>0</th>\n",
       "      <td>Alabama</td>\n",
       "      <td>32.3182</td>\n",
       "      <td>-86.9023</td>\n",
       "      <td>4903185.0</td>\n",
       "      <td>NaN</td>\n",
       "      <td>NaN</td>\n",
       "      <td>NaN</td>\n",
       "      <td>NaN</td>\n",
       "      <td>5181.0</td>\n",
       "      <td>5181.0</td>\n",
       "      <td>...</td>\n",
       "      <td>2768204</td>\n",
       "      <td>2773615</td>\n",
       "      <td>2773902</td>\n",
       "      <td>2791631</td>\n",
       "      <td>2831853</td>\n",
       "      <td>2859591</td>\n",
       "      <td>2881314</td>\n",
       "      <td>2886106</td>\n",
       "      <td>2886153</td>\n",
       "      <td>2905553</td>\n",
       "    </tr>\n",
       "    <tr>\n",
       "      <th>1</th>\n",
       "      <td>Alaska</td>\n",
       "      <td>61.3707</td>\n",
       "      <td>-152.4044</td>\n",
       "      <td>731545.0</td>\n",
       "      <td>NaN</td>\n",
       "      <td>NaN</td>\n",
       "      <td>NaN</td>\n",
       "      <td>NaN</td>\n",
       "      <td>4270.0</td>\n",
       "      <td>4270.0</td>\n",
       "      <td>...</td>\n",
       "      <td>625950</td>\n",
       "      <td>575340</td>\n",
       "      <td>576572</td>\n",
       "      <td>596118</td>\n",
       "      <td>597901</td>\n",
       "      <td>600324</td>\n",
       "      <td>600324</td>\n",
       "      <td>600324</td>\n",
       "      <td>603937</td>\n",
       "      <td>605896</td>\n",
       "    </tr>\n",
       "    <tr>\n",
       "      <th>2</th>\n",
       "      <td>Arizona</td>\n",
       "      <td>33.7298</td>\n",
       "      <td>-111.4312</td>\n",
       "      <td>7278717.0</td>\n",
       "      <td>NaN</td>\n",
       "      <td>NaN</td>\n",
       "      <td>NaN</td>\n",
       "      <td>NaN</td>\n",
       "      <td>NaN</td>\n",
       "      <td>NaN</td>\n",
       "      <td>...</td>\n",
       "      <td>5372605</td>\n",
       "      <td>5411726</td>\n",
       "      <td>5450531</td>\n",
       "      <td>5471165</td>\n",
       "      <td>5497137</td>\n",
       "      <td>5521396</td>\n",
       "      <td>5558091</td>\n",
       "      <td>5598339</td>\n",
       "      <td>5618126</td>\n",
       "      <td>5635242</td>\n",
       "    </tr>\n",
       "    <tr>\n",
       "      <th>3</th>\n",
       "      <td>Arkansas</td>\n",
       "      <td>34.9697</td>\n",
       "      <td>-92.3731</td>\n",
       "      <td>3017804.0</td>\n",
       "      <td>NaN</td>\n",
       "      <td>NaN</td>\n",
       "      <td>NaN</td>\n",
       "      <td>NaN</td>\n",
       "      <td>4000.0</td>\n",
       "      <td>4000.0</td>\n",
       "      <td>...</td>\n",
       "      <td>1900002</td>\n",
       "      <td>1905274</td>\n",
       "      <td>1909885</td>\n",
       "      <td>1919251</td>\n",
       "      <td>1928682</td>\n",
       "      <td>1938998</td>\n",
       "      <td>1954605</td>\n",
       "      <td>1966843</td>\n",
       "      <td>1970379</td>\n",
       "      <td>1973505</td>\n",
       "    </tr>\n",
       "    <tr>\n",
       "      <th>4</th>\n",
       "      <td>California</td>\n",
       "      <td>36.1162</td>\n",
       "      <td>-119.6816</td>\n",
       "      <td>39512223.0</td>\n",
       "      <td>NaN</td>\n",
       "      <td>NaN</td>\n",
       "      <td>NaN</td>\n",
       "      <td>NaN</td>\n",
       "      <td>NaN</td>\n",
       "      <td>NaN</td>\n",
       "      <td>...</td>\n",
       "      <td>33109680</td>\n",
       "      <td>33438134</td>\n",
       "      <td>33632769</td>\n",
       "      <td>33817290</td>\n",
       "      <td>34085597</td>\n",
       "      <td>34319950</td>\n",
       "      <td>34715312</td>\n",
       "      <td>35114882</td>\n",
       "      <td>35341738</td>\n",
       "      <td>35518035</td>\n",
       "    </tr>\n",
       "  </tbody>\n",
       "</table>\n",
       "<p>5 rows × 160 columns</p>\n",
       "</div>"
      ],
      "text/plain": [
       "  Province_State      Lat     Long_  Population  2020-12-14  2020-12-15  \\\n",
       "0        Alabama  32.3182  -86.9023   4903185.0         NaN         NaN   \n",
       "1         Alaska  61.3707 -152.4044    731545.0         NaN         NaN   \n",
       "2        Arizona  33.7298 -111.4312   7278717.0         NaN         NaN   \n",
       "3       Arkansas  34.9697  -92.3731   3017804.0         NaN         NaN   \n",
       "4     California  36.1162 -119.6816  39512223.0         NaN         NaN   \n",
       "\n",
       "   2020-12-16  2020-12-17  2020-12-18  2020-12-19  ...  2021-05-09  \\\n",
       "0         NaN         NaN      5181.0      5181.0  ...     2768204   \n",
       "1         NaN         NaN      4270.0      4270.0  ...      625950   \n",
       "2         NaN         NaN         NaN         NaN  ...     5372605   \n",
       "3         NaN         NaN      4000.0      4000.0  ...     1900002   \n",
       "4         NaN         NaN         NaN         NaN  ...    33109680   \n",
       "\n",
       "   2021-05-10  2021-05-11  2021-05-12  2021-05-13  2021-05-14  2021-05-15  \\\n",
       "0     2773615     2773902     2791631     2831853     2859591     2881314   \n",
       "1      575340      576572      596118      597901      600324      600324   \n",
       "2     5411726     5450531     5471165     5497137     5521396     5558091   \n",
       "3     1905274     1909885     1919251     1928682     1938998     1954605   \n",
       "4    33438134    33632769    33817290    34085597    34319950    34715312   \n",
       "\n",
       "   2021-05-16  2021-05-17  2021-05-18  \n",
       "0     2886106     2886153     2905553  \n",
       "1      600324      603937      605896  \n",
       "2     5598339     5618126     5635242  \n",
       "3     1966843     1970379     1973505  \n",
       "4    35114882    35341738    35518035  \n",
       "\n",
       "[5 rows x 160 columns]"
      ]
     },
     "execution_count": 375,
     "metadata": {},
     "output_type": "execute_result"
    }
   ],
   "source": [
    "vaccination.head()"
   ]
  },
  {
   "cell_type": "code",
   "execution_count": 376,
   "metadata": {},
   "outputs": [],
   "source": [
    "vaccination = vaccination.fillna(0) #converting NaN values to 0"
   ]
  },
  {
   "cell_type": "code",
   "execution_count": 377,
   "metadata": {},
   "outputs": [],
   "source": [
    "vaccine_cal = list(vaccination[vaccination['Province_State']==\"California\"].iloc[0])"
   ]
  },
  {
   "cell_type": "code",
   "execution_count": 162,
   "metadata": {},
   "outputs": [],
   "source": [
    "daily_cal = confirmed_cal[0] +np.zeros(len(confirmed_cal))\n",
    "for i in range(1, len(confirmed_cal)):\n",
    "    daily_cal[i] = confirmed_cal[i] - confirmed_cal[i-1]"
   ]
  },
  {
   "cell_type": "code",
   "execution_count": 166,
   "metadata": {},
   "outputs": [
    {
     "data": {
      "image/png": "[encoded data removed]",
      "text/plain": [
       "<Figure size 1440x360 with 1 Axes>"
      ]
     },
     "metadata": {
      "needs_background": "light"
     },
     "output_type": "display_data"
    }
   ],
   "source": [
    "plt.figure(figsize=(20, 5))\n",
    "plt.xticks(rotation=90, ha='right', fontsize=10)\n",
    "#plt.ylabel('#Confirmed', fontsize=10)\n",
    "#plt.xlabel('date', fontsize=10)\n",
    "#plt.plot(all_dates[60:], confirmed_cal, color = \"navy\", label=\"confirmed (agg)\")\n",
    "plt.plot(all_dates[60:], daily_cal, color = \"gray\", label=\"confirmed (daily)\")\n",
    "#plt.plot(all_dates[60:], [0]* (len(confirmed_cal)-len(vaccine_cal)+4) +vaccine_cal[4:], color = \"salmon\", label=\"vaccinated\")\n",
    "plt.xticks([int(i) for i in np.linspace(0, len(all_dates)+2, 50)])\n",
    "plt.legend(loc = \"upper left\")\n",
    "#plt.xticks(\"off\")\n",
    "#plt.yticks(\"off\")\n",
    "plt.show()"
   ]
  },
  {
   "cell_type": "code",
   "execution_count": 169,
   "metadata": {},
   "outputs": [
    {
     "data": {
      "image/png": "[encoded data removed]",
      "text/plain": [
       "<Figure size 1440x720 with 1 Axes>"
      ]
     },
     "metadata": {
      "needs_background": "light"
     },
     "output_type": "display_data"
    }
   ],
   "source": [
    "plt.figure(figsize=(20, 10))\n",
    "plt.xticks(rotation=90, ha='right', fontsize=10)\n",
    "#plt.ylabel('#Confirmed', fontsize=10)\n",
    "#plt.xlabel('date', fontsize=10)\n",
    "plt.plot(all_dates[60:], confirmed_cal, color = \"navy\", label=\"confirmed (agg)\")\n",
    "plt.plot(all_dates[60:], daily_cal, color = \"gray\", label=\"confirmed (daily)\")\n",
    "plt.plot(all_dates[60:], [0]* (len(confirmed_cal)-len(vaccine_cal)+4) +vaccine_cal[4:], color = \"salmon\", label=\"vaccinated\")\n",
    "plt.xticks([int(i) for i in np.linspace(0, len(all_dates)+2, 50)])\n",
    "plt.legend(loc = \"upper left\")\n",
    "#plt.xticks(\"off\")\n",
    "#plt.yticks(\"off\")\n",
    "plt.show()"
   ]
  },
  {
   "cell_type": "code",
   "execution_count": 193,
   "metadata": {},
   "outputs": [],
   "source": [
    "def plot_statistics_state(state=\"California\"):\n",
    "    plt.figure(figsize=(20, 5))\n",
    "    plt.xticks(rotation=90, ha='right', fontsize=10)\n",
    "    state_df = result[result.Province_State == state]\n",
    "    confirmed_agg = list(state_df[['Province_State'] + Confirmed].iloc[0])[1:]\n",
    "    confirmed_daily= confirmed_agg[0] +np.zeros(len(confirmed_agg))\n",
    "    for i in range(1, len(confirmed_daily)):\n",
    "        confirmed_daily[i] = confirmed_agg[i] - confirmed_agg[i-1]\n",
    "    vaccinated =  list(vaccination[vaccination['Province_State']==state].iloc[0])\n",
    "    plt.plot(all_dates[60:], confirmed_agg, color = \"navy\", label=\"confirmed (agg)\")\n",
    "    plt.plot(all_dates[60:], confirmed_daily, color = \"salmon\", label=\"confirmed (daily)\")\n",
    "    plt.plot(all_dates[60:], [0]* (len(confirmed_agg)-len(vaccinated)+4) +vaccinated[4:], color = \"gold\", label=\"vaccinated\")\n",
    "    plt.xticks([int(i) for i in np.linspace(0, len(all_dates)+2, 50)])\n",
    "    plt.legend(loc = \"upper left\")\n",
    "    #plt.xticks(\"off\")\n",
    "    #plt.yticks(\"off\")\n",
    "    plt.show()"
   ]
  },
  {
   "cell_type": "code",
   "execution_count": 194,
   "metadata": {},
   "outputs": [
    {
     "data": {
      "image/png": "[encoded data removed]",
      "text/plain": [
       "<Figure size 1440x360 with 1 Axes>"
      ]
     },
     "metadata": {
      "needs_background": "light"
     },
     "output_type": "display_data"
    }
   ],
   "source": [
    "plot_statistics_state(\"Texas\")"
   ]
  },
  {
   "cell_type": "markdown",
   "metadata": {},
   "source": [
    "<div style=\"color:navy; background-color:orange; font-size:16px;\">Prediction of number of vaccination (Vanila LSTM)</div>"
   ]
  },
  {
   "cell_type": "code",
   "execution_count": 300,
   "metadata": {},
   "outputs": [],
   "source": [
    "import matplotlib.pyplot as plt\n",
    "import pandas as pd\n",
    "import datetime as dt\n",
    "import urllib.request, json\n",
    "import os\n",
    "import numpy as np\n",
    "import tensorflow as tf # This code has been tested with TensorFlow 1.6\n",
    "from sklearn.preprocessing import MinMaxScaler\n",
    "from numpy import array\n",
    "from keras.models import Sequential\n",
    "from keras.layers import LSTM\n",
    "from keras.layers import Dense"
   ]
  },
  {
   "cell_type": "code",
   "execution_count": 403,
   "metadata": {},
   "outputs": [
    {
     "data": {
      "text/html": [
       "<div>\n",
       "<style scoped>\n",
       "    .dataframe tbody tr th:only-of-type {\n",
       "        vertical-align: middle;\n",
       "    }\n",
       "\n",
       "    .dataframe tbody tr th {\n",
       "        vertical-align: top;\n",
       "    }\n",
       "\n",
       "    .dataframe thead th {\n",
       "        text-align: right;\n",
       "    }\n",
       "</style>\n",
       "<table border=\"1\" class=\"dataframe\">\n",
       "  <thead>\n",
       "    <tr style=\"text-align: right;\">\n",
       "      <th></th>\n",
       "      <th>2020-12-14</th>\n",
       "      <th>2020-12-15</th>\n",
       "      <th>2020-12-16</th>\n",
       "      <th>2020-12-17</th>\n",
       "      <th>2020-12-18</th>\n",
       "      <th>2020-12-19</th>\n",
       "      <th>2020-12-20</th>\n",
       "      <th>2020-12-21</th>\n",
       "      <th>2020-12-22</th>\n",
       "      <th>2020-12-23</th>\n",
       "      <th>...</th>\n",
       "      <th>2021-05-09</th>\n",
       "      <th>2021-05-10</th>\n",
       "      <th>2021-05-11</th>\n",
       "      <th>2021-05-12</th>\n",
       "      <th>2021-05-13</th>\n",
       "      <th>2021-05-14</th>\n",
       "      <th>2021-05-15</th>\n",
       "      <th>2021-05-16</th>\n",
       "      <th>2021-05-17</th>\n",
       "      <th>2021-05-18</th>\n",
       "    </tr>\n",
       "  </thead>\n",
       "  <tbody>\n",
       "    <tr>\n",
       "      <th>0</th>\n",
       "      <td>0.0</td>\n",
       "      <td>0.0</td>\n",
       "      <td>0.0</td>\n",
       "      <td>0.0</td>\n",
       "      <td>5181.0</td>\n",
       "      <td>5181.0</td>\n",
       "      <td>5181.0</td>\n",
       "      <td>5181.0</td>\n",
       "      <td>5181.0</td>\n",
       "      <td>5181.0</td>\n",
       "      <td>...</td>\n",
       "      <td>2768204</td>\n",
       "      <td>2773615</td>\n",
       "      <td>2773902</td>\n",
       "      <td>2791631</td>\n",
       "      <td>2831853</td>\n",
       "      <td>2859591</td>\n",
       "      <td>2881314</td>\n",
       "      <td>2886106</td>\n",
       "      <td>2886153</td>\n",
       "      <td>2905553</td>\n",
       "    </tr>\n",
       "    <tr>\n",
       "      <th>1</th>\n",
       "      <td>0.0</td>\n",
       "      <td>0.0</td>\n",
       "      <td>0.0</td>\n",
       "      <td>0.0</td>\n",
       "      <td>4270.0</td>\n",
       "      <td>4270.0</td>\n",
       "      <td>5674.0</td>\n",
       "      <td>7118.0</td>\n",
       "      <td>8918.0</td>\n",
       "      <td>11002.0</td>\n",
       "      <td>...</td>\n",
       "      <td>625950</td>\n",
       "      <td>575340</td>\n",
       "      <td>576572</td>\n",
       "      <td>596118</td>\n",
       "      <td>597901</td>\n",
       "      <td>600324</td>\n",
       "      <td>600324</td>\n",
       "      <td>600324</td>\n",
       "      <td>603937</td>\n",
       "      <td>605896</td>\n",
       "    </tr>\n",
       "    <tr>\n",
       "      <th>2</th>\n",
       "      <td>0.0</td>\n",
       "      <td>0.0</td>\n",
       "      <td>0.0</td>\n",
       "      <td>0.0</td>\n",
       "      <td>0.0</td>\n",
       "      <td>0.0</td>\n",
       "      <td>0.0</td>\n",
       "      <td>0.0</td>\n",
       "      <td>0.0</td>\n",
       "      <td>0.0</td>\n",
       "      <td>...</td>\n",
       "      <td>5372605</td>\n",
       "      <td>5411726</td>\n",
       "      <td>5450531</td>\n",
       "      <td>5471165</td>\n",
       "      <td>5497137</td>\n",
       "      <td>5521396</td>\n",
       "      <td>5558091</td>\n",
       "      <td>5598339</td>\n",
       "      <td>5618126</td>\n",
       "      <td>5635242</td>\n",
       "    </tr>\n",
       "    <tr>\n",
       "      <th>3</th>\n",
       "      <td>0.0</td>\n",
       "      <td>0.0</td>\n",
       "      <td>0.0</td>\n",
       "      <td>0.0</td>\n",
       "      <td>4000.0</td>\n",
       "      <td>4000.0</td>\n",
       "      <td>4000.0</td>\n",
       "      <td>4000.0</td>\n",
       "      <td>4000.0</td>\n",
       "      <td>4000.0</td>\n",
       "      <td>...</td>\n",
       "      <td>1900002</td>\n",
       "      <td>1905274</td>\n",
       "      <td>1909885</td>\n",
       "      <td>1919251</td>\n",
       "      <td>1928682</td>\n",
       "      <td>1938998</td>\n",
       "      <td>1954605</td>\n",
       "      <td>1966843</td>\n",
       "      <td>1970379</td>\n",
       "      <td>1973505</td>\n",
       "    </tr>\n",
       "    <tr>\n",
       "      <th>4</th>\n",
       "      <td>0.0</td>\n",
       "      <td>0.0</td>\n",
       "      <td>0.0</td>\n",
       "      <td>0.0</td>\n",
       "      <td>0.0</td>\n",
       "      <td>0.0</td>\n",
       "      <td>0.0</td>\n",
       "      <td>0.0</td>\n",
       "      <td>0.0</td>\n",
       "      <td>0.0</td>\n",
       "      <td>...</td>\n",
       "      <td>33109680</td>\n",
       "      <td>33438134</td>\n",
       "      <td>33632769</td>\n",
       "      <td>33817290</td>\n",
       "      <td>34085597</td>\n",
       "      <td>34319950</td>\n",
       "      <td>34715312</td>\n",
       "      <td>35114882</td>\n",
       "      <td>35341738</td>\n",
       "      <td>35518035</td>\n",
       "    </tr>\n",
       "  </tbody>\n",
       "</table>\n",
       "<p>5 rows × 156 columns</p>\n",
       "</div>"
      ],
      "text/plain": [
       "   2020-12-14  2020-12-15  2020-12-16  2020-12-17  2020-12-18  2020-12-19  \\\n",
       "0         0.0         0.0         0.0         0.0      5181.0      5181.0   \n",
       "1         0.0         0.0         0.0         0.0      4270.0      4270.0   \n",
       "2         0.0         0.0         0.0         0.0         0.0         0.0   \n",
       "3         0.0         0.0         0.0         0.0      4000.0      4000.0   \n",
       "4         0.0         0.0         0.0         0.0         0.0         0.0   \n",
       "\n",
       "   2020-12-20  2020-12-21  2020-12-22  2020-12-23  ...  2021-05-09  \\\n",
       "0      5181.0      5181.0      5181.0      5181.0  ...     2768204   \n",
       "1      5674.0      7118.0      8918.0     11002.0  ...      625950   \n",
       "2         0.0         0.0         0.0         0.0  ...     5372605   \n",
       "3      4000.0      4000.0      4000.0      4000.0  ...     1900002   \n",
       "4         0.0         0.0         0.0         0.0  ...    33109680   \n",
       "\n",
       "   2021-05-10  2021-05-11  2021-05-12  2021-05-13  2021-05-14  2021-05-15  \\\n",
       "0     2773615     2773902     2791631     2831853     2859591     2881314   \n",
       "1      575340      576572      596118      597901      600324      600324   \n",
       "2     5411726     5450531     5471165     5497137     5521396     5558091   \n",
       "3     1905274     1909885     1919251     1928682     1938998     1954605   \n",
       "4    33438134    33632769    33817290    34085597    34319950    34715312   \n",
       "\n",
       "   2021-05-16  2021-05-17  2021-05-18  \n",
       "0     2886106     2886153     2905553  \n",
       "1      600324      603937      605896  \n",
       "2     5598339     5618126     5635242  \n",
       "3     1966843     1970379     1973505  \n",
       "4    35114882    35341738    35518035  \n",
       "\n",
       "[5 rows x 156 columns]"
      ]
     },
     "execution_count": 403,
     "metadata": {},
     "output_type": "execute_result"
    }
   ],
   "source": [
    "v = vaccination[list(vaccination.columns)[4:]]\n",
    "v.head()"
   ]
  },
  {
   "cell_type": "code",
   "execution_count": 301,
   "metadata": {},
   "outputs": [],
   "source": [
    "# splitting the sequence into samples\n",
    "def split_sequence(sequence, n_steps):\n",
    "    X, y = list(), list()\n",
    "    for i in range(len(sequence)):\n",
    "        end_ix = i + n_steps\n",
    "        if end_ix > len(sequence)-1:\n",
    "            break\n",
    "        seq_x, seq_y = sequence[i:end_ix], sequence[end_ix]\n",
    "        X.append(seq_x)\n",
    "        y.append(seq_y)\n",
    "    return array(X), array(y)"
   ]
  },
  {
   "cell_type": "code",
   "execution_count": 411,
   "metadata": {},
   "outputs": [],
   "source": [
    " def predict_next_all_seq(index, sequence):\n",
    "    n_steps = 3\n",
    "    X, y = split_sequence(sequence, n_steps) #splitting into samples\n",
    "    n_features = 1\n",
    "    X = X.reshape((X.shape[0], X.shape[1], n_features))\n",
    "    # defineing the model\n",
    "    model = Sequential()\n",
    "    model.add(LSTM(200, activation='relu', input_shape=(n_steps, n_features)))\n",
    "    model.add(Dense(1))\n",
    "    model.compile(optimizer='adam', loss='mse')\n",
    "    # fitting the  model\n",
    "    model.fit(X, y, epochs=200, verbose=0)\n",
    "    # demonstrate prediction\n",
    "    x_input = array(list(v.iloc[index])[-4:-1])\n",
    "    x_input = x_input.reshape((1, n_steps, n_features))\n",
    "    prediction = model.predict(x_input, verbose=0)\n",
    "    return int(prediction)"
   ]
  },
  {
   "cell_type": "code",
   "execution_count": 436,
   "metadata": {},
   "outputs": [],
   "source": [
    " def predict_next_after_vaccination_start(index, sequence, epochs):\n",
    "    \"\"\"\n",
    "    omits the zero values\n",
    "    \"\"\"\n",
    "    #sequence = list(v.iloc[index])[-10:-1]\n",
    "    sequence = list(filter((0.0).__ne__, sequence))\n",
    "    n_steps = 3\n",
    "    X, y = split_sequence(sequence, n_steps) #splitting into samples\n",
    "    n_features = 1\n",
    "    X = X.reshape((X.shape[0], X.shape[1], n_features))\n",
    "    # defineing the model\n",
    "    model = Sequential()\n",
    "    model.add(LSTM(200, activation='relu', input_shape=(n_steps, n_features)))\n",
    "    model.add(Dense(1))\n",
    "    model.compile(optimizer='adam', loss='mse')\n",
    "    # fitting the  model\n",
    "    model.fit(X, y, epochs=epochs, verbose=0)\n",
    "    # demonstrate prediction\n",
    "    x_input = array(list(v.iloc[index])[-4:-1])\n",
    "    x_input = x_input.reshape((1, n_steps, n_features))\n",
    "    prediction = model.predict(x_input, verbose=0)\n",
    "    return int(prediction)"
   ]
  },
  {
   "cell_type": "code",
   "execution_count": 457,
   "metadata": {},
   "outputs": [],
   "source": [
    "import warnings\n",
    "predictions_May_18_after_start = []"
   ]
  },
  {
   "cell_type": "code",
   "execution_count": 468,
   "metadata": {},
   "outputs": [
    {
     "data": {
      "text/plain": [
       "2020-12-14          0.0\n",
       "2020-12-15          0.0\n",
       "2020-12-16          0.0\n",
       "2020-12-17          0.0\n",
       "2020-12-18       5181.0\n",
       "                ...    \n",
       "2021-05-14    2859591.0\n",
       "2021-05-15    2881314.0\n",
       "2021-05-16    2886106.0\n",
       "2021-05-17    2886153.0\n",
       "2021-05-18    2905553.0\n",
       "Name: 0, Length: 156, dtype: float64"
      ]
     },
     "execution_count": 468,
     "metadata": {},
     "output_type": "execute_result"
    }
   ],
   "source": [
    "v.iloc[0]"
   ]
  },
  {
   "cell_type": "code",
   "execution_count": null,
   "metadata": {},
   "outputs": [],
   "source": [
    "for state in range(45, len(v)):\n",
    "#for state in range(v.shape[0]):\n",
    "    warnings.filterwarnings('ignore')\n",
    "    print(vaccination['Province_State'].iloc[state])\n",
    "    sequence = list(v.iloc[state])[:-1]\n",
    "    predictions_May_18_after_start.append(predict_next_after_vaccination_start(state, sequence, 1000))"
   ]
  },
  {
   "cell_type": "code",
   "execution_count": 483,
   "metadata": {},
   "outputs": [
    {
     "data": {
      "text/plain": [
       "56"
      ]
     },
     "execution_count": 483,
     "metadata": {},
     "output_type": "execute_result"
    }
   ],
   "source": [
    "len(predictions_May_18_after_start)"
   ]
  },
  {
   "cell_type": "code",
   "execution_count": 495,
   "metadata": {},
   "outputs": [
    {
     "name": "stdout",
     "output_type": "stream",
     "text": [
      "Average error is 1.6941913975720635 percent\n"
     ]
    }
   ],
   "source": [
    "T = list(v['2021-05-18'])\n",
    "E = predictions_May_18_after_start\n",
    "error = []\n",
    "\n",
    "for i in range(len(predictions_May_18_after_start)):\n",
    "    error.append((E[i]-T[i])/T[i]*100)\n",
    "average_error = np.mean(error)\n",
    "print(\"Average error is {} percent\".format(average_error))"
   ]
  },
  {
   "cell_type": "code",
   "execution_count": 502,
   "metadata": {},
   "outputs": [
    {
     "name": "stdout",
     "output_type": "stream",
     "text": [
      "Weighted error (based on population) is 1.8007538632866453 percent\n"
     ]
    }
   ],
   "source": [
    "pop = list(vaccination['Population'])\n",
    "w = []\n",
    "for i in range(len(predictions_May_18_after_start)):\n",
    "    w.append(pop[i]*error[i])\n",
    "weighted_error = sum(w)/sum(pop)\n",
    "print(\"Weighted error (based on population) is {} percent\".format(weighted_error))"
   ]
  },
  {
   "cell_type": "markdown",
   "metadata": {},
   "source": [
    "<div style=\"color:navy; background-color:orange; font-size:16px;\">Prediction of number of vaccination (other method)</div>"
   ]
  },
  {
   "cell_type": "code",
   "execution_count": null,
   "metadata": {},
   "outputs": [],
   "source": []
  },
  {
   "cell_type": "code",
   "execution_count": null,
   "metadata": {},
   "outputs": [],
   "source": []
  },
  {
   "cell_type": "code",
   "execution_count": null,
   "metadata": {},
   "outputs": [],
   "source": []
  }
 ],
 "metadata": {
  "kernelspec": {
   "display_name": "Python 3",
   "language": "python",
   "name": "python3"
  },
  "language_info": {
   "codemirror_mode": {
    "name": "ipython",
    "version": 3
   },
   "file_extension": ".py",
   "mimetype": "text/x-python",
   "name": "python",
   "nbconvert_exporter": "python",
   "pygments_lexer": "ipython3",
   "version": "3.8.3"
  }
 },
 "nbformat": 4,
 "nbformat_minor": 4
}
