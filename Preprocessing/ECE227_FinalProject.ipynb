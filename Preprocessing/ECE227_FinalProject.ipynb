{
 "cells": [
  {
   "cell_type": "markdown",
   "metadata": {},
   "source": [
    "<div style=\"color:navy; background-color:orange; font-size:16px;\">Importing the dataset</div>"
   ]
  },
  {
   "cell_type": "code",
   "execution_count": 286,
   "metadata": {},
   "outputs": [],
   "source": [
    "#Importing libraries\n",
    "import pandas as pd\n",
    "import numpy as np\n",
    "import matplotlib.pyplot as plt\n",
    "from bs4 import BeautifulSoup"
   ]
  },
  {
   "cell_type": "markdown",
   "metadata": {},
   "source": [
    "<div style=\"color:navy; background-color:orange; font-size:16px;\">Downloading the John Hopkins Covid 19 dataset</div>"
   ]
  },
  {
   "cell_type": "code",
   "execution_count": 287,
   "metadata": {},
   "outputs": [],
   "source": [
    "#https://github.com/CSSEGISandData/COVID-19/tree/master/csse_covid_19_data/csse_covid_19_daily_reports\n",
    "#!git clone https://github.com/CSSEGISandData/COVID-19.git"
   ]
  },
  {
   "cell_type": "code",
   "execution_count": 288,
   "metadata": {},
   "outputs": [],
   "source": [
    "import pandas as pd\n",
    "url = \"https://raw.githubusercontent.com/CSSEGISandData/COVID-19/master/csse_covid_19_data/csse_covid_19_daily_reports/01-01-2021.csv\"\n",
    "df = pd.read_csv(url, error_bad_lines = False)\n",
    "US = df[df['Country_Region'] == \"US\"]\n",
    "d = ['Admin2', 'FIPS', \"Lat\", \"Long_\", 'Case_Fatality_Ratio', 'Incident_Rate']\n",
    "for to_be_deleted in d:\n",
    "    del US[to_be_deleted]"
   ]
  },
  {
   "cell_type": "code",
   "execution_count": 289,
   "metadata": {},
   "outputs": [
    {
     "data": {
      "text/plain": [
       "array(['2020-08-04 02:27:56', '2020-08-07 22:34:20',\n",
       "       '2020-12-21 13:27:30', '2020-12-29 23:22:37',\n",
       "       '2021-01-02 05:22:33', '2021-04-02 15:13:53'], dtype=object)"
      ]
     },
     "execution_count": 289,
     "metadata": {},
     "output_type": "execute_result"
    }
   ],
   "source": [
    "np.unique(US['Last_Update'])"
   ]
  },
  {
   "cell_type": "code",
   "execution_count": 291,
   "metadata": {},
   "outputs": [],
   "source": [
    "temp_data = US.groupby(by=[\"Province_State\"]).sum().reset_index()"
   ]
  },
  {
   "cell_type": "code",
   "execution_count": 292,
   "metadata": {},
   "outputs": [
    {
     "data": {
      "text/html": [
       "<div>\n",
       "<style scoped>\n",
       "    .dataframe tbody tr th:only-of-type {\n",
       "        vertical-align: middle;\n",
       "    }\n",
       "\n",
       "    .dataframe tbody tr th {\n",
       "        vertical-align: top;\n",
       "    }\n",
       "\n",
       "    .dataframe thead th {\n",
       "        text-align: right;\n",
       "    }\n",
       "</style>\n",
       "<table border=\"1\" class=\"dataframe\">\n",
       "  <thead>\n",
       "    <tr style=\"text-align: right;\">\n",
       "      <th></th>\n",
       "      <th>Province_State</th>\n",
       "      <th>Confirmed</th>\n",
       "      <th>Deaths</th>\n",
       "      <th>Recovered</th>\n",
       "      <th>Active</th>\n",
       "    </tr>\n",
       "  </thead>\n",
       "  <tbody>\n",
       "    <tr>\n",
       "      <th>0</th>\n",
       "      <td>Alabama</td>\n",
       "      <td>365747</td>\n",
       "      <td>4872</td>\n",
       "      <td>0</td>\n",
       "      <td>360875.0</td>\n",
       "    </tr>\n",
       "    <tr>\n",
       "      <th>1</th>\n",
       "      <td>Alaska</td>\n",
       "      <td>47019</td>\n",
       "      <td>206</td>\n",
       "      <td>0</td>\n",
       "      <td>46780.0</td>\n",
       "    </tr>\n",
       "    <tr>\n",
       "      <th>2</th>\n",
       "      <td>Arizona</td>\n",
       "      <td>530267</td>\n",
       "      <td>9015</td>\n",
       "      <td>0</td>\n",
       "      <td>521252.0</td>\n",
       "    </tr>\n",
       "    <tr>\n",
       "      <th>3</th>\n",
       "      <td>Arkansas</td>\n",
       "      <td>229442</td>\n",
       "      <td>3711</td>\n",
       "      <td>0</td>\n",
       "      <td>225731.0</td>\n",
       "    </tr>\n",
       "    <tr>\n",
       "      <th>4</th>\n",
       "      <td>California</td>\n",
       "      <td>2365024</td>\n",
       "      <td>26504</td>\n",
       "      <td>0</td>\n",
       "      <td>2309915.0</td>\n",
       "    </tr>\n",
       "  </tbody>\n",
       "</table>\n",
       "</div>"
      ],
      "text/plain": [
       "  Province_State  Confirmed  Deaths  Recovered     Active\n",
       "0        Alabama     365747    4872          0   360875.0\n",
       "1         Alaska      47019     206          0    46780.0\n",
       "2        Arizona     530267    9015          0   521252.0\n",
       "3       Arkansas     229442    3711          0   225731.0\n",
       "4     California    2365024   26504          0  2309915.0"
      ]
     },
     "execution_count": 292,
     "metadata": {},
     "output_type": "execute_result"
    }
   ],
   "source": [
    "temp_data.head()"
   ]
  },
  {
   "cell_type": "markdown",
   "metadata": {},
   "source": [
    "<div style=\"color:navy; background-color:orange; font-size:16px;\">All existing dates</div>"
   ]
  },
  {
   "cell_type": "code",
   "execution_count": 260,
   "metadata": {},
   "outputs": [],
   "source": [
    "#storing all dates\n",
    "from datetime import date, timedelta\n",
    "\n",
    "d1 = date(2020,1,22)\n",
    "d2 = date(2021,5,18)\n",
    "\n",
    "#list containing all of the dates\n",
    "dates = [d1 + timedelta(days=x) for x in range((d2-d1).days + 1)]\n",
    "all_dates = []\n",
    "#all_dates[0].day, all_dates[0].month, all_dates[0].year\n",
    "for d in dates:\n",
    "    if d.day < 10:\n",
    "        day = \"0\"+str(d.day)\n",
    "    else:\n",
    "        day = str(d.day)\n",
    "    if d.month <10:\n",
    "        month = \"0\"+str(d.month)\n",
    "    else:\n",
    "        month = str(d.month)\n",
    "    year = str(d.year)\n",
    "    #print(month+\"-\"+day+\"-\"+year)\n",
    "    all_dates.append(month+\"-\"+day+\"-\"+year)    "
   ]
  },
  {
   "cell_type": "code",
   "execution_count": 261,
   "metadata": {},
   "outputs": [],
   "source": [
    "#all_dates\n",
    "#all_dates[0].day, all_dates[0].month, all_dates[0].year\n",
    "#type(all_dates[0].day)"
   ]
  },
  {
   "cell_type": "markdown",
   "metadata": {},
   "source": [
    "<div style=\"color:navy; background-color:orange; font-size:16px;\">Downloading data corresponding to each particular date</div>"
   ]
  },
  {
   "cell_type": "code",
   "execution_count": 317,
   "metadata": {},
   "outputs": [],
   "source": [
    "def store_df(index):\n",
    "    \"\"\"\n",
    "    index in the all_dates\n",
    "    \"\"\"\n",
    "    date = all_dates[index]\n",
    "    url = \"https://raw.githubusercontent.com/CSSEGISandData/COVID-19/master/csse_covid_19_data/csse_covid_19_daily_reports/\" + date + \".csv\"\n",
    "    df = pd.read_csv(url, error_bad_lines = False)\n",
    "    return df\n",
    "#store_df(123) #date = \"01-12-2021\" first index in the all_dates list"
   ]
  },
  {
   "cell_type": "markdown",
   "metadata": {},
   "source": [
    "<div style=\"color:navy; background-color:orange; font-size:16px;\">Cleaning and filtering the dataset</div>"
   ]
  },
  {
   "cell_type": "code",
   "execution_count": 368,
   "metadata": {},
   "outputs": [
    {
     "data": {
      "text/html": [
       "<div>\n",
       "<style scoped>\n",
       "    .dataframe tbody tr th:only-of-type {\n",
       "        vertical-align: middle;\n",
       "    }\n",
       "\n",
       "    .dataframe tbody tr th {\n",
       "        vertical-align: top;\n",
       "    }\n",
       "\n",
       "    .dataframe thead th {\n",
       "        text-align: right;\n",
       "    }\n",
       "</style>\n",
       "<table border=\"1\" class=\"dataframe\">\n",
       "  <thead>\n",
       "    <tr style=\"text-align: right;\">\n",
       "      <th></th>\n",
       "      <th>Province_State</th>\n",
       "      <th>Confirmed</th>\n",
       "      <th>Deaths</th>\n",
       "      <th>Recovered</th>\n",
       "      <th>Active</th>\n",
       "    </tr>\n",
       "  </thead>\n",
       "  <tbody>\n",
       "    <tr>\n",
       "      <th>0</th>\n",
       "      <td>Alabama</td>\n",
       "      <td>180</td>\n",
       "      <td>0</td>\n",
       "      <td>0</td>\n",
       "      <td>0</td>\n",
       "    </tr>\n",
       "    <tr>\n",
       "      <th>1</th>\n",
       "      <td>Alaska</td>\n",
       "      <td>20</td>\n",
       "      <td>0</td>\n",
       "      <td>0</td>\n",
       "      <td>0</td>\n",
       "    </tr>\n",
       "    <tr>\n",
       "      <th>2</th>\n",
       "      <td>American Samoa</td>\n",
       "      <td>0</td>\n",
       "      <td>0</td>\n",
       "      <td>0</td>\n",
       "      <td>0</td>\n",
       "    </tr>\n",
       "    <tr>\n",
       "      <th>3</th>\n",
       "      <td>Arizona</td>\n",
       "      <td>152</td>\n",
       "      <td>2</td>\n",
       "      <td>0</td>\n",
       "      <td>0</td>\n",
       "    </tr>\n",
       "    <tr>\n",
       "      <th>4</th>\n",
       "      <td>Arkansas</td>\n",
       "      <td>165</td>\n",
       "      <td>0</td>\n",
       "      <td>0</td>\n",
       "      <td>0</td>\n",
       "    </tr>\n",
       "  </tbody>\n",
       "</table>\n",
       "</div>"
      ],
      "text/plain": [
       "   Province_State  Confirmed  Deaths  Recovered  Active\n",
       "0         Alabama        180       0          0       0\n",
       "1          Alaska         20       0          0       0\n",
       "2  American Samoa          0       0          0       0\n",
       "3         Arizona        152       2          0       0\n",
       "4        Arkansas        165       0          0       0"
      ]
     },
     "execution_count": 368,
     "metadata": {},
     "output_type": "execute_result"
    }
   ],
   "source": [
    "dataset = store_df(60) #first recording for America is in the 60th day of recording\n",
    "dataset[dataset['Country_Region']=='US'].groupby(by=[\"Province_State\"]).sum().reset_index()[['Province_State', 'Confirmed','Deaths', 'Recovered', \"Active\"]].head()"
   ]
  },
  {
   "cell_type": "code",
   "execution_count": 341,
   "metadata": {},
   "outputs": [
    {
     "data": {
      "text/html": [
       "<div>\n",
       "<style scoped>\n",
       "    .dataframe tbody tr th:only-of-type {\n",
       "        vertical-align: middle;\n",
       "    }\n",
       "\n",
       "    .dataframe tbody tr th {\n",
       "        vertical-align: top;\n",
       "    }\n",
       "\n",
       "    .dataframe thead th {\n",
       "        text-align: right;\n",
       "    }\n",
       "</style>\n",
       "<table border=\"1\" class=\"dataframe\">\n",
       "  <thead>\n",
       "    <tr style=\"text-align: right;\">\n",
       "      <th></th>\n",
       "      <th>Province_State</th>\n",
       "      <th>Confirmed</th>\n",
       "      <th>Deaths</th>\n",
       "      <th>Recovered</th>\n",
       "      <th>Active</th>\n",
       "    </tr>\n",
       "  </thead>\n",
       "  <tbody>\n",
       "    <tr>\n",
       "      <th>0</th>\n",
       "      <td>Alabama</td>\n",
       "      <td>180</td>\n",
       "      <td>0</td>\n",
       "      <td>0</td>\n",
       "      <td>0</td>\n",
       "    </tr>\n",
       "    <tr>\n",
       "      <th>1</th>\n",
       "      <td>Alaska</td>\n",
       "      <td>20</td>\n",
       "      <td>0</td>\n",
       "      <td>0</td>\n",
       "      <td>0</td>\n",
       "    </tr>\n",
       "    <tr>\n",
       "      <th>2</th>\n",
       "      <td>American Samoa</td>\n",
       "      <td>0</td>\n",
       "      <td>0</td>\n",
       "      <td>0</td>\n",
       "      <td>0</td>\n",
       "    </tr>\n",
       "    <tr>\n",
       "      <th>3</th>\n",
       "      <td>Arizona</td>\n",
       "      <td>152</td>\n",
       "      <td>2</td>\n",
       "      <td>0</td>\n",
       "      <td>0</td>\n",
       "    </tr>\n",
       "    <tr>\n",
       "      <th>4</th>\n",
       "      <td>Arkansas</td>\n",
       "      <td>165</td>\n",
       "      <td>0</td>\n",
       "      <td>0</td>\n",
       "      <td>0</td>\n",
       "    </tr>\n",
       "  </tbody>\n",
       "</table>\n",
       "</div>"
      ],
      "text/plain": [
       "   Province_State  Confirmed  Deaths  Recovered  Active\n",
       "0         Alabama        180       0          0       0\n",
       "1          Alaska         20       0          0       0\n",
       "2  American Samoa          0       0          0       0\n",
       "3         Arizona        152       2          0       0\n",
       "4        Arkansas        165       0          0       0"
      ]
     },
     "execution_count": 341,
     "metadata": {},
     "output_type": "execute_result"
    }
   ],
   "source": [
    "def clean_df(index):\n",
    "    dataset = store_df(index)\n",
    "    try:\n",
    "        res = dataset[dataset['Country_Region']=='US'].groupby(by=[\"Province_State\"]).sum().reset_index()[['Province_State', 'Confirmed','Deaths', 'Recovered', \"Active\"]]\n",
    "    except:\n",
    "        print(\"No information for date\")\n",
    "    return res\n",
    "clean_df(60).head()"
   ]
  },
  {
   "cell_type": "markdown",
   "metadata": {},
   "source": [
    "<div style=\"color:navy; background-color:orange; font-size:16px;\">Merging the data corresponding to each date</div>"
   ]
  },
  {
   "cell_type": "code",
   "execution_count": 367,
   "metadata": {},
   "outputs": [
    {
     "name": "stdout",
     "output_type": "stream",
     "text": [
      "Merging --- 21.0%\n",
      "Merging --- 31.0%\n",
      "Merging --- 41.0%\n",
      "Merging --- 52.0%\n",
      "Merging --- 62.0%\n",
      "Merging --- 72.0%\n",
      "Merging --- 83.0%\n",
      "Merging --- 93.0%\n"
     ]
    }
   ],
   "source": [
    "result = clean_df(60)\n",
    "result.columns = ['Province_State', 'C60', 'D60', 'R60', 'A60']\n",
    "#for d in range(60, len(all_dates)):\n",
    "for d in range(61, len(all_dates)):\n",
    "    cols = result.columns\n",
    "    t = clean_df(d)\n",
    "    result = result.join(t.set_index('Province_State'), on='Province_State')\n",
    "    result.columns = list(cols) + [\"C\"+str(d), \"D\"+str(d), \"R\"+str(d), \"A\"+str(d) ]\n",
    "    if d%50 == 0:\n",
    "        print(\"Merging --- {}%\".format(np.round(100/len(all_dates)*d),2))"
   ]
  },
  {
   "cell_type": "code",
   "execution_count": 373,
   "metadata": {},
   "outputs": [],
   "source": [
    "assert result.shape[1] == (len(all_dates)-60)*4 + 1"
   ]
  },
  {
   "cell_type": "code",
   "execution_count": 392,
   "metadata": {},
   "outputs": [],
   "source": [
    "result.to_csv(\"CDAR.csv\", sep='\\t')"
   ]
  },
  {
   "cell_type": "markdown",
   "metadata": {},
   "source": [
    "<div style=\"color:navy; background-color:orange; font-size:16px;\">Confirmed cases</div>"
   ]
  },
  {
   "cell_type": "code",
   "execution_count": 460,
   "metadata": {},
   "outputs": [],
   "source": [
    "Confirmed = [\"C\"+str(d) for d in range(60, len(all_dates))]\n",
    "result[['Province_State'] + Confirmed].to_csv(\"Confirmed.csv\", sep='\\t')"
   ]
  },
  {
   "cell_type": "markdown",
   "metadata": {},
   "source": [
    "<div style=\"color:navy; background-color:orange; font-size:16px;\">Death cases</div>"
   ]
  },
  {
   "cell_type": "code",
   "execution_count": 461,
   "metadata": {},
   "outputs": [],
   "source": [
    "Death = [\"D\"+str(d) for d in range(60, len(all_dates))]\n",
    "result[['Province_State'] + Death].to_csv(\"Death.csv\", sep='\\t')"
   ]
  },
  {
   "cell_type": "markdown",
   "metadata": {},
   "source": [
    "<div style=\"color:navy; background-color:orange; font-size:16px;\">Active cases</div>"
   ]
  },
  {
   "cell_type": "code",
   "execution_count": 462,
   "metadata": {},
   "outputs": [],
   "source": [
    "Active = [\"A\"+str(d) for d in range(60, len(all_dates))]\n",
    "result[['Province_State'] + Active].to_csv(\"Active.csv\", sep='\\t')"
   ]
  },
  {
   "cell_type": "markdown",
   "metadata": {},
   "source": [
    "<div style=\"color:navy; background-color:orange; font-size:16px;\">Recovered cases</div>"
   ]
  },
  {
   "cell_type": "code",
   "execution_count": 463,
   "metadata": {},
   "outputs": [],
   "source": [
    "Recovered = [\"R\"+str(d) for d in range(60, len(all_dates))]\n",
    "result[['Province_State'] + Recovered].to_csv(\"Recovered.csv\", sep='\\t')"
   ]
  },
  {
   "cell_type": "markdown",
   "metadata": {},
   "source": [
    "<div style=\"color:navy; background-color:orange; font-size:16px;\">The results for a particular state</div>"
   ]
  },
  {
   "cell_type": "code",
   "execution_count": 397,
   "metadata": {},
   "outputs": [
    {
     "data": {
      "text/html": [
       "<div>\n",
       "<style scoped>\n",
       "    .dataframe tbody tr th:only-of-type {\n",
       "        vertical-align: middle;\n",
       "    }\n",
       "\n",
       "    .dataframe tbody tr th {\n",
       "        vertical-align: top;\n",
       "    }\n",
       "\n",
       "    .dataframe thead th {\n",
       "        text-align: right;\n",
       "    }\n",
       "</style>\n",
       "<table border=\"1\" class=\"dataframe\">\n",
       "  <thead>\n",
       "    <tr style=\"text-align: right;\">\n",
       "      <th></th>\n",
       "      <th>Province_State</th>\n",
       "      <th>C60</th>\n",
       "      <th>D60</th>\n",
       "      <th>R60</th>\n",
       "      <th>A60</th>\n",
       "      <th>C61</th>\n",
       "      <th>D61</th>\n",
       "      <th>R61</th>\n",
       "      <th>A61</th>\n",
       "      <th>C62</th>\n",
       "      <th>...</th>\n",
       "      <th>R480</th>\n",
       "      <th>A480</th>\n",
       "      <th>C481</th>\n",
       "      <th>D481</th>\n",
       "      <th>R481</th>\n",
       "      <th>A481</th>\n",
       "      <th>C482</th>\n",
       "      <th>D482</th>\n",
       "      <th>R482</th>\n",
       "      <th>A482</th>\n",
       "    </tr>\n",
       "  </thead>\n",
       "  <tbody>\n",
       "    <tr>\n",
       "      <th>19</th>\n",
       "      <td>Iowa</td>\n",
       "      <td>90</td>\n",
       "      <td>0</td>\n",
       "      <td>0</td>\n",
       "      <td>0</td>\n",
       "      <td>105.0</td>\n",
       "      <td>0.0</td>\n",
       "      <td>0.0</td>\n",
       "      <td>0.0</td>\n",
       "      <td>124.0</td>\n",
       "      <td>...</td>\n",
       "      <td>0.0</td>\n",
       "      <td>0.0</td>\n",
       "      <td>369494.0</td>\n",
       "      <td>6006.0</td>\n",
       "      <td>0.0</td>\n",
       "      <td>0.0</td>\n",
       "      <td>369693.0</td>\n",
       "      <td>6013.0</td>\n",
       "      <td>0.0</td>\n",
       "      <td>0.0</td>\n",
       "    </tr>\n",
       "  </tbody>\n",
       "</table>\n",
       "<p>1 rows × 1693 columns</p>\n",
       "</div>"
      ],
      "text/plain": [
       "   Province_State  C60  D60  R60  A60    C61  D61  R61  A61    C62  ...  R480  \\\n",
       "19           Iowa   90    0    0    0  105.0  0.0  0.0  0.0  124.0  ...   0.0   \n",
       "\n",
       "    A480      C481    D481  R481  A481      C482    D482  R482  A482  \n",
       "19   0.0  369494.0  6006.0   0.0   0.0  369693.0  6013.0   0.0   0.0  \n",
       "\n",
       "[1 rows x 1693 columns]"
      ]
     },
     "execution_count": 397,
     "metadata": {},
     "output_type": "execute_result"
    }
   ],
   "source": [
    "result[result.Province_State ==\"Iowa\"]"
   ]
  },
  {
   "cell_type": "code",
   "execution_count": 424,
   "metadata": {},
   "outputs": [
    {
     "data": {
      "text/html": [
       "<div>\n",
       "<style scoped>\n",
       "    .dataframe tbody tr th:only-of-type {\n",
       "        vertical-align: middle;\n",
       "    }\n",
       "\n",
       "    .dataframe tbody tr th {\n",
       "        vertical-align: top;\n",
       "    }\n",
       "\n",
       "    .dataframe thead th {\n",
       "        text-align: right;\n",
       "    }\n",
       "</style>\n",
       "<table border=\"1\" class=\"dataframe\">\n",
       "  <thead>\n",
       "    <tr style=\"text-align: right;\">\n",
       "      <th></th>\n",
       "      <th>Province_State</th>\n",
       "      <th>C60</th>\n",
       "      <th>C61</th>\n",
       "      <th>C62</th>\n",
       "      <th>C63</th>\n",
       "      <th>C64</th>\n",
       "      <th>C65</th>\n",
       "      <th>C66</th>\n",
       "      <th>C67</th>\n",
       "      <th>C68</th>\n",
       "      <th>...</th>\n",
       "      <th>C473</th>\n",
       "      <th>C474</th>\n",
       "      <th>C475</th>\n",
       "      <th>C476</th>\n",
       "      <th>C477</th>\n",
       "      <th>C478</th>\n",
       "      <th>C479</th>\n",
       "      <th>C480</th>\n",
       "      <th>C481</th>\n",
       "      <th>C482</th>\n",
       "    </tr>\n",
       "  </thead>\n",
       "  <tbody>\n",
       "    <tr>\n",
       "      <th>5</th>\n",
       "      <td>California</td>\n",
       "      <td>1646</td>\n",
       "      <td>2108.0</td>\n",
       "      <td>2538.0</td>\n",
       "      <td>2998.0</td>\n",
       "      <td>3899.0</td>\n",
       "      <td>4657.0</td>\n",
       "      <td>5095.0</td>\n",
       "      <td>5852.0</td>\n",
       "      <td>7138.0</td>\n",
       "      <td>...</td>\n",
       "      <td>3758137.0</td>\n",
       "      <td>3760303.0</td>\n",
       "      <td>3761779.0</td>\n",
       "      <td>3763281.0</td>\n",
       "      <td>3764405.0</td>\n",
       "      <td>3767052.0</td>\n",
       "      <td>3768087.0</td>\n",
       "      <td>3768805.0</td>\n",
       "      <td>3769827.0</td>\n",
       "      <td>3771240.0</td>\n",
       "    </tr>\n",
       "  </tbody>\n",
       "</table>\n",
       "<p>1 rows × 424 columns</p>\n",
       "</div>"
      ],
      "text/plain": [
       "  Province_State   C60     C61     C62     C63     C64     C65     C66  \\\n",
       "5     California  1646  2108.0  2538.0  2998.0  3899.0  4657.0  5095.0   \n",
       "\n",
       "      C67     C68  ...       C473       C474       C475       C476       C477  \\\n",
       "5  5852.0  7138.0  ...  3758137.0  3760303.0  3761779.0  3763281.0  3764405.0   \n",
       "\n",
       "        C478       C479       C480       C481       C482  \n",
       "5  3767052.0  3768087.0  3768805.0  3769827.0  3771240.0  \n",
       "\n",
       "[1 rows x 424 columns]"
      ]
     },
     "execution_count": 424,
     "metadata": {},
     "output_type": "execute_result"
    }
   ],
   "source": [
    "California = result[result.Province_State ==\"California\"]\n",
    "NewYork = result[result.Province_State ==\"New York\"]\n",
    "California[['Province_State'] + Confirmed]"
   ]
  },
  {
   "cell_type": "markdown",
   "metadata": {},
   "source": [
    "<div style=\"color:navy; background-color:orange; font-size:16px;\">Plotting the results for a particular state (CA and NY)</div>"
   ]
  },
  {
   "cell_type": "code",
   "execution_count": 426,
   "metadata": {},
   "outputs": [],
   "source": [
    "confirmed_cal = list(California[['Province_State'] + Confirmed].iloc[0])[1:]\n",
    "confirmed_ny= list(NewYork[['Province_State'] + Confirmed].iloc[0])[1:]"
   ]
  },
  {
   "cell_type": "code",
   "execution_count": 459,
   "metadata": {},
   "outputs": [
    {
     "data": {
      "image/png": "[encoded data removed]",
      "text/plain": [
       "<Figure size 1440x360 with 1 Axes>"
      ]
     },
     "metadata": {
      "needs_background": "light"
     },
     "output_type": "display_data"
    }
   ],
   "source": [
    "plt.figure(figsize=(20, 5))\n",
    "plt.xticks(rotation=90, ha='right', fontsize=10)\n",
    "plt.ylabel('#Confirmed', fontsize=10)\n",
    "plt.ylabel('Date', fontsize=10)\n",
    "plt.plot(all_dates[60:], confirmed_cal, color = \"navy\", label=\"CA\")\n",
    "plt.plot(all_dates[60:], confirmed_ny, color = \"salmon\", label=\"NY\")\n",
    "plt.xticks([int(i) for i in np.linspace(0, len(all_dates), 50)])\n",
    "plt.legend(loc = \"upper left\")\n",
    "plt.show()"
   ]
  },
  {
   "cell_type": "markdown",
   "metadata": {},
   "source": [
    "<div style=\"color:navy; background-color:orange; font-size:16px;\">Adding the vaccination data</div>"
   ]
  },
  {
   "cell_type": "code",
   "execution_count": null,
   "metadata": {},
   "outputs": [],
   "source": []
  },
  {
   "cell_type": "code",
   "execution_count": null,
   "metadata": {},
   "outputs": [],
   "source": []
  },
  {
   "cell_type": "code",
   "execution_count": null,
   "metadata": {},
   "outputs": [],
   "source": []
  },
  {
   "cell_type": "code",
   "execution_count": null,
   "metadata": {},
   "outputs": [],
   "source": []
  }
 ],
 "metadata": {
  "kernelspec": {
   "display_name": "Python 3",
   "language": "python",
   "name": "python3"
  },
  "language_info": {
   "codemirror_mode": {
    "name": "ipython",
    "version": 3
   },
   "file_extension": ".py",
   "mimetype": "text/x-python",
   "name": "python",
   "nbconvert_exporter": "python",
   "pygments_lexer": "ipython3",
   "version": "3.8.3"
  }
 },
 "nbformat": 4,
 "nbformat_minor": 4
}
